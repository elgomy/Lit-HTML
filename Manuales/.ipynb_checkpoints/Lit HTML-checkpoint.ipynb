{
 "cells": [
  {
   "cell_type": "markdown",
   "metadata": {},
   "source": [
    "## Instalar Lit-HTML"
   ]
  },
  {
   "cell_type": "markdown",
   "metadata": {},
   "source": [
    "Lo debemos instalar en la carpeta del proyecto. Ojo, como lo estamos descargando con NPM será necesario crear un archivo package.json"
   ]
  },
  {
   "cell_type": "code",
   "execution_count": null,
   "metadata": {
    "collapsed": true
   },
   "outputs": [],
   "source": [
    "'''\n",
    "1.- Creamos el archivo package.json.\n",
    "\n",
    "The most important things in your package.json are the name and version fields. \n",
    "Those are actually required, and your package won't install without them. \n",
    "The name and version together form an identifier that is assumed to be completely unique. \n",
    "Changes to the package should come along with changes to the version.\n",
    "'''\n",
    "npm init\n",
    "\n",
    "'''\n",
    "2.- Instalamos lit-HTML en la carpeta de nuestro proyecto\n",
    "'''\n",
    "\n",
    "npm install lit-html"
   ]
  }
 ],
 "metadata": {
  "kernelspec": {
   "display_name": "Python 3",
   "language": "python",
   "name": "python3"
  },
  "language_info": {
   "codemirror_mode": {
    "name": "ipython",
    "version": 3
   },
   "file_extension": ".py",
   "mimetype": "text/x-python",
   "name": "python",
   "nbconvert_exporter": "python",
   "pygments_lexer": "ipython3",
   "version": "3.6.2"
  }
 },
 "nbformat": 4,
 "nbformat_minor": 2
}
